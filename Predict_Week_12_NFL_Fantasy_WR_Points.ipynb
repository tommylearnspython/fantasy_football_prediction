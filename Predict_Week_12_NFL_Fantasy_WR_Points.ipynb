{
 "cells": [
  {
   "cell_type": "code",
   "execution_count": 1,
   "id": "5af13fe3",
   "metadata": {},
   "outputs": [],
   "source": [
    "import requests\n",
    "import pandas as pd"
   ]
  },
  {
   "cell_type": "code",
   "execution_count": 2,
   "id": "e758a454",
   "metadata": {},
   "outputs": [],
   "source": [
    "## Get player stats by week     ##\n",
    "\n",
    "PLAYER_STATS_API_KEY = '03d0150bd37d434d9339e14d1c849374'\n",
    "player_week_api_endpoint = 'https://api.sportsdata.io/v3/nfl/stats/json/PlayerGameStatsByWeek/'\n",
    "\n",
    "parameters = {\n",
    "    'key': PLAYER_STATS_API_KEY,\n",
    "}\n",
    "\n",
    "season = '2022'\n",
    "week='10'\n",
    "\n",
    "response = requests.get(url=f\"{player_week_api_endpoint}/{season}/{week}\",params=parameters)\n",
    "response.raise_for_status()\n",
    "player_stats_week_10_data = response.json()"
   ]
  },
  {
   "cell_type": "code",
   "execution_count": 69,
   "id": "bf788b59",
   "metadata": {},
   "outputs": [],
   "source": [
    "# Create dictionary of defense ranks:\n",
    "\n",
    "defense_ranks = {\n",
    "    'DEN': 1,\n",
    "    'IND': 2,\n",
    "    'NE': 3,\n",
    "    'HOU': 4,\n",
    "    'NYG': 5,\n",
    "    'NYJ': 6,\n",
    "    'SEA': 7,\n",
    "    'PHI': 8,\n",
    "    'CIN' : 9,\n",
    "    'CHI': 10,\n",
    "    'GB': 11,\n",
    "    'ARI': 12,\n",
    "    'LAC': 13,\n",
    "    'BUF': 14,\n",
    "    'MIA': 15,\n",
    "    'TB': 16,\n",
    "    'LV': 17,\n",
    "    'NO': 18,\n",
    "    'LAR': 19,\n",
    "    'DAL': 20,\n",
    "    'SF': 21,\n",
    "    'CAR': 22,\n",
    "    'CLE': 23,\n",
    "    'DET': 24,\n",
    "    'JAX': 25,\n",
    "    'WAS': 26,\n",
    "    'MIN': 27,\n",
    "    'BAL': 28,\n",
    "    'KC': 29,\n",
    "    'TEN': 30,\n",
    "    'ATL': 31,\n",
    "    'PIT': 32,\n",
    "}"
   ]
  },
  {
   "cell_type": "code",
   "execution_count": 1,
   "id": "cfce0eb8",
   "metadata": {
    "scrolled": true
   },
   "outputs": [],
   "source": [
    "##      Create dictionnary of players       ##\n",
    "\n",
    "active_wide_receivers_week_10_stats = {}\n",
    "for player in player_stats_week_10_data:\n",
    "    if player['Position'] == 'WR' and player['Started'] == 1:\n",
    "        active_wide_receivers_week_10_stats[player['Name']] = player\n"
   ]
  },
  {
   "cell_type": "code",
   "execution_count": 4,
   "id": "56504732",
   "metadata": {},
   "outputs": [],
   "source": [
    "##       CREATE initial dataframe with player names as index      #\n",
    "\n",
    "df_week_10 = pd.DataFrame.from_dict(active_wide_receivers_week_10_stats, orient='index')"
   ]
  },
  {
   "cell_type": "code",
   "execution_count": 5,
   "id": "58d6bf60",
   "metadata": {},
   "outputs": [],
   "source": [
    "df_week_10['Percent_Off_Snaps_Played'] = df_week_10['OffensiveSnapsPlayed'] / df_week_10['OffensiveTeamSnaps']\n",
    "# df_week_10.columns.values"
   ]
  },
  {
   "cell_type": "code",
   "execution_count": 3,
   "id": "f85911c2",
   "metadata": {},
   "outputs": [],
   "source": [
    "df_week_10_useful_info = df_week_10[['OffensiveTouchdowns','Percent_Off_Snaps_Played','ReceivingYards','ReceivingTargets','ReceivingLong',\n",
    "                            'ReceivingLong','FantasyPointsYahoo']]\n",
    "\n",
    "\n"
   ]
  },
  {
   "cell_type": "code",
   "execution_count": 7,
   "id": "83bd1db8",
   "metadata": {},
   "outputs": [],
   "source": [
    "## get week 9 stats.   ##\n",
    "\n",
    "parameters = {\n",
    "    'key': PLAYER_STATS_API_KEY,\n",
    "}\n",
    "\n",
    "season = '2022'\n",
    "week='9'\n",
    "\n",
    "response = requests.get(url=f\"{player_week_api_endpoint}/{season}/{week}\",params=parameters)\n",
    "response.raise_for_status()\n",
    "player_stats_week_9_data = response.json()"
   ]
  },
  {
   "cell_type": "code",
   "execution_count": 4,
   "id": "7c8c14eb",
   "metadata": {},
   "outputs": [],
   "source": [
    "active_wide_receivers_week_9_stats = {}\n",
    "for player in player_stats_week_9_data:\n",
    "    if player['Position'] == 'WR' and player['Started'] == 1:\n",
    "        active_wide_receivers_week_9_stats[player['Name']] = player\n"
   ]
  },
  {
   "cell_type": "code",
   "execution_count": 9,
   "id": "0011badc",
   "metadata": {},
   "outputs": [],
   "source": [
    "df_week_9 = pd.DataFrame.from_dict(active_wide_receivers_week_9_stats, orient='index')\n",
    "df_week_9['Percent_Off_Snaps_Played'] = df_week_9['OffensiveSnapsPlayed'] / df_week_9['OffensiveTeamSnaps']\n"
   ]
  },
  {
   "cell_type": "code",
   "execution_count": 5,
   "id": "dfde9b36",
   "metadata": {},
   "outputs": [],
   "source": [
    "df_week_9_useful_info = df_week_9[['OffensiveTouchdowns','Percent_Off_Snaps_Played','ReceivingYards','ReceivingTargets','ReceivingLong',\n",
    "                            'ReceivingLong','FantasyPointsYahoo']]\n",
    "\n"
   ]
  },
  {
   "cell_type": "code",
   "execution_count": 11,
   "id": "31da3fb9",
   "metadata": {},
   "outputs": [],
   "source": [
    "## get week 8 stats.   ##\n",
    "\n",
    "parameters = {\n",
    "    'key': PLAYER_STATS_API_KEY,\n",
    "}\n",
    "\n",
    "season = '2022'\n",
    "week='8'\n",
    "\n",
    "response = requests.get(url=f\"{player_week_api_endpoint}/{season}/{week}\",params=parameters)\n",
    "response.raise_for_status()\n",
    "player_stats_week_8_data = response.json()"
   ]
  },
  {
   "cell_type": "code",
   "execution_count": 6,
   "id": "b59274d7",
   "metadata": {},
   "outputs": [],
   "source": [
    "active_wide_receivers_week_8_stats = {}\n",
    "for player in player_stats_week_8_data:\n",
    "    if player['Position'] == 'WR' and player['Started'] == 1:\n",
    "        active_wide_receivers_week_8_stats[player['Name']] = player\n"
   ]
  },
  {
   "cell_type": "code",
   "execution_count": 13,
   "id": "66104602",
   "metadata": {},
   "outputs": [],
   "source": [
    "df_week_8 = pd.DataFrame.from_dict(active_wide_receivers_week_8_stats, orient='index')\n",
    "df_week_8['Percent_Off_Snaps_Played'] = df_week_8['OffensiveSnapsPlayed'] / df_week_8['OffensiveTeamSnaps']\n"
   ]
  },
  {
   "cell_type": "code",
   "execution_count": 7,
   "id": "b16a9df0",
   "metadata": {},
   "outputs": [],
   "source": [
    "df_week_8_useful_info = df_week_8[['OffensiveTouchdowns','Percent_Off_Snaps_Played','ReceivingYards','ReceivingTargets','ReceivingLong',\n",
    "                            'ReceivingLong','FantasyPointsYahoo']]\n",
    "\n"
   ]
  },
  {
   "cell_type": "code",
   "execution_count": 15,
   "id": "49f80620",
   "metadata": {},
   "outputs": [],
   "source": [
    "## get week 7 stats.   ##\n",
    "\n",
    "parameters = {\n",
    "    'key': PLAYER_STATS_API_KEY,\n",
    "}\n",
    "\n",
    "season = '2022'\n",
    "week='7'\n",
    "\n",
    "response = requests.get(url=f\"{player_week_api_endpoint}/{season}/{week}\",params=parameters)\n",
    "response.raise_for_status()\n",
    "player_stats_week_7_data = response.json()\n",
    "\n",
    "\n",
    "active_wide_receivers_week_7_stats = {}\n",
    "for player in player_stats_week_7_data:\n",
    "    if player['Position'] == 'WR' and player['Started'] == 1:\n",
    "        active_wide_receivers_week_7_stats[player['Name']] = player\n",
    "\n",
    "df_week_7 = pd.DataFrame.from_dict(active_wide_receivers_week_7_stats, orient='index')\n",
    "df_week_7['Percent_Off_Snaps_Played'] = df_week_7['OffensiveSnapsPlayed'] / df_week_7['OffensiveTeamSnaps']\n",
    "\n",
    "\n",
    "df_week_7_useful_info = df_week_7[['OffensiveTouchdowns','Percent_Off_Snaps_Played','ReceivingYards','ReceivingTargets','ReceivingLong',\n",
    "                            'ReceivingLong','FantasyPointsYahoo']]\n"
   ]
  },
  {
   "cell_type": "code",
   "execution_count": null,
   "id": "156941db",
   "metadata": {},
   "outputs": [],
   "source": []
  },
  {
   "cell_type": "code",
   "execution_count": 17,
   "id": "ef00d202",
   "metadata": {},
   "outputs": [],
   "source": [
    "## get week 6 stats.   ##\n",
    "\n",
    "parameters = {\n",
    "    'key': PLAYER_STATS_API_KEY,\n",
    "}\n",
    "\n",
    "season = '2022'\n",
    "week='6'\n",
    "\n",
    "response = requests.get(url=f\"{player_week_api_endpoint}/{season}/{week}\",params=parameters)\n",
    "response.raise_for_status()\n",
    "player_stats_week_6_data = response.json()\n",
    "\n",
    "\n",
    "active_wide_receivers_week_6_stats = {}\n",
    "for player in player_stats_week_6_data:\n",
    "    if player['Position'] == 'WR' and player['Started'] == 1:\n",
    "        active_wide_receivers_week_6_stats[player['Name']] = player\n",
    "\n",
    "df_week_6 = pd.DataFrame.from_dict(active_wide_receivers_week_6_stats, orient='index')\n",
    "df_week_6['Percent_Off_Snaps_Played'] = df_week_6['OffensiveSnapsPlayed'] / df_week_6['OffensiveTeamSnaps']\n",
    "\n",
    "\n",
    "df_week_6_useful_info = df_week_6[['OffensiveTouchdowns','Percent_Off_Snaps_Played','ReceivingYards','ReceivingTargets','ReceivingLong',\n",
    "                            'ReceivingLong','FantasyPointsYahoo']]\n"
   ]
  },
  {
   "cell_type": "code",
   "execution_count": 18,
   "id": "ffd394f3",
   "metadata": {},
   "outputs": [],
   "source": [
    "## get week 5 stats.   ##\n",
    "\n",
    "parameters = {\n",
    "    'key': PLAYER_STATS_API_KEY,\n",
    "}\n",
    "\n",
    "season = '2022'\n",
    "week='5'\n",
    "\n",
    "response = requests.get(url=f\"{player_week_api_endpoint}/{season}/{week}\",params=parameters)\n",
    "response.raise_for_status()\n",
    "player_stats_week_5_data = response.json()\n",
    "\n",
    "\n",
    "active_wide_receivers_week_5_stats = {}\n",
    "for player in player_stats_week_5_data:\n",
    "    if player['Position'] == 'WR' and player['Started'] == 1:\n",
    "        active_wide_receivers_week_5_stats[player['Name']] = player\n",
    "\n",
    "df_week_5 = pd.DataFrame.from_dict(active_wide_receivers_week_5_stats, orient='index')\n",
    "df_week_5['Percent_Off_Snaps_Played'] = df_week_5['OffensiveSnapsPlayed'] / df_week_5['OffensiveTeamSnaps']\n",
    "\n",
    "\n",
    "df_week_5_useful_info = df_week_5[['OffensiveTouchdowns','Percent_Off_Snaps_Played','ReceivingYards','ReceivingTargets','ReceivingLong',\n",
    "                            'ReceivingLong','FantasyPointsYahoo']]\n"
   ]
  },
  {
   "cell_type": "code",
   "execution_count": 19,
   "id": "5bf96f95",
   "metadata": {},
   "outputs": [],
   "source": [
    "## get week 4 stats.   ##\n",
    "\n",
    "parameters = {\n",
    "    'key': PLAYER_STATS_API_KEY,\n",
    "}\n",
    "\n",
    "season = '2022'\n",
    "week='4'\n",
    "\n",
    "response = requests.get(url=f\"{player_week_api_endpoint}/{season}/{week}\",params=parameters)\n",
    "response.raise_for_status()\n",
    "player_stats_week_4_data = response.json()\n",
    "\n",
    "\n",
    "active_wide_receivers_week_4_stats = {}\n",
    "for player in player_stats_week_4_data:\n",
    "    if player['Position'] == 'WR' and player['Started'] == 1:\n",
    "        active_wide_receivers_week_4_stats[player['Name']] = player\n",
    "\n",
    "df_week_4 = pd.DataFrame.from_dict(active_wide_receivers_week_4_stats, orient='index')\n",
    "df_week_4['Percent_Off_Snaps_Played'] = df_week_4['OffensiveSnapsPlayed'] / df_week_4['OffensiveTeamSnaps']\n",
    "\n",
    "\n",
    "df_week_4_useful_info = df_week_4[['OffensiveTouchdowns','Percent_Off_Snaps_Played','ReceivingYards','ReceivingTargets','ReceivingLong',\n",
    "                            'ReceivingLong','FantasyPointsYahoo']]\n"
   ]
  },
  {
   "cell_type": "code",
   "execution_count": 20,
   "id": "397c5d05",
   "metadata": {},
   "outputs": [],
   "source": [
    "## get week 3 stats.   ##\n",
    "\n",
    "parameters = {\n",
    "    'key': PLAYER_STATS_API_KEY,\n",
    "}\n",
    "\n",
    "season = '2022'\n",
    "week='3'\n",
    "\n",
    "response = requests.get(url=f\"{player_week_api_endpoint}/{season}/{week}\",params=parameters)\n",
    "response.raise_for_status()\n",
    "player_stats_week_3_data = response.json()\n",
    "\n",
    "\n",
    "active_wide_receivers_week_3_stats = {}\n",
    "for player in player_stats_week_3_data:\n",
    "    if player['Position'] == 'WR' and player['Started'] == 1:\n",
    "        active_wide_receivers_week_3_stats[player['Name']] = player\n",
    "\n",
    "df_week_3 = pd.DataFrame.from_dict(active_wide_receivers_week_3_stats, orient='index')\n",
    "df_week_3['Percent_Off_Snaps_Played'] = df_week_3['OffensiveSnapsPlayed'] / df_week_3['OffensiveTeamSnaps']\n",
    "\n",
    "\n",
    "df_week_3_useful_info = df_week_3[['OffensiveTouchdowns','Percent_Off_Snaps_Played','ReceivingYards','ReceivingTargets','ReceivingLong',\n",
    "                            'ReceivingLong','FantasyPointsYahoo']]\n"
   ]
  },
  {
   "cell_type": "code",
   "execution_count": 21,
   "id": "940c99a9",
   "metadata": {},
   "outputs": [],
   "source": [
    "## get week 2 stats.   ##\n",
    "\n",
    "parameters = {\n",
    "    'key': PLAYER_STATS_API_KEY,\n",
    "}\n",
    "\n",
    "season = '2022'\n",
    "week='2'\n",
    "\n",
    "response = requests.get(url=f\"{player_week_api_endpoint}/{season}/{week}\",params=parameters)\n",
    "response.raise_for_status()\n",
    "player_stats_week_2_data = response.json()\n",
    "\n",
    "\n",
    "active_wide_receivers_week_2_stats = {}\n",
    "for player in player_stats_week_2_data:\n",
    "    if player['Position'] == 'WR' and player['Started'] == 1:\n",
    "        active_wide_receivers_week_2_stats[player['Name']] = player\n",
    "\n",
    "df_week_2 = pd.DataFrame.from_dict(active_wide_receivers_week_2_stats, orient='index')\n",
    "df_week_2['Percent_Off_Snaps_Played'] = df_week_2['OffensiveSnapsPlayed'] / df_week_2['OffensiveTeamSnaps']\n",
    "\n",
    "\n",
    "df_week_2_useful_info = df_week_2[['OffensiveTouchdowns','Percent_Off_Snaps_Played','ReceivingYards','ReceivingTargets','ReceivingLong',\n",
    "                            'ReceivingLong','FantasyPointsYahoo']]\n"
   ]
  },
  {
   "cell_type": "code",
   "execution_count": 22,
   "id": "279b7eba",
   "metadata": {},
   "outputs": [],
   "source": [
    "## get week 1 stats.   ##\n",
    "\n",
    "parameters = {\n",
    "    'key': PLAYER_STATS_API_KEY,\n",
    "}\n",
    "\n",
    "season = '2022'\n",
    "week='1'\n",
    "\n",
    "response = requests.get(url=f\"{player_week_api_endpoint}/{season}/{week}\",params=parameters)\n",
    "response.raise_for_status()\n",
    "player_stats_week_1_data = response.json()\n",
    "\n",
    "\n",
    "active_wide_receivers_week_1_stats = {}\n",
    "for player in player_stats_week_1_data:\n",
    "    if player['Position'] == 'WR' and player['Started'] == 1:\n",
    "        active_wide_receivers_week_1_stats[player['Name']] = player\n",
    "\n",
    "df_week_1 = pd.DataFrame.from_dict(active_wide_receivers_week_1_stats, orient='index')\n",
    "df_week_1['Percent_Off_Snaps_Played'] = df_week_1['OffensiveSnapsPlayed'] / df_week_1['OffensiveTeamSnaps']\n",
    "\n",
    "\n",
    "df_week_1_useful_info = df_week_1[['OffensiveTouchdowns','Percent_Off_Snaps_Played','ReceivingYards','ReceivingTargets','ReceivingLong',\n",
    "                            'ReceivingLong','FantasyPointsYahoo']]\n"
   ]
  },
  {
   "cell_type": "code",
   "execution_count": null,
   "id": "83fba11c",
   "metadata": {},
   "outputs": [],
   "source": []
  },
  {
   "cell_type": "code",
   "execution_count": 24,
   "id": "a858dee1",
   "metadata": {},
   "outputs": [],
   "source": [
    "all_weeks_players = {\n",
    "                '10': active_wide_receivers_week_10_stats,\n",
    "               '9': active_wide_receivers_week_9_stats,\n",
    "               '8': active_wide_receivers_week_8_stats,\n",
    "               '7': active_wide_receivers_week_7_stats,\n",
    "               '6': active_wide_receivers_week_6_stats,\n",
    "               '5': active_wide_receivers_week_5_stats,\n",
    "               '4': active_wide_receivers_week_4_stats,\n",
    "               '3': active_wide_receivers_week_3_stats,\n",
    "               '2': active_wide_receivers_week_2_stats,\n",
    "               '1': active_wide_receivers_week_1_stats,\n",
    "              }"
   ]
  },
  {
   "cell_type": "code",
   "execution_count": null,
   "id": "bca21b46",
   "metadata": {},
   "outputs": [],
   "source": []
  },
  {
   "cell_type": "code",
   "execution_count": 99,
   "id": "054a7452",
   "metadata": {},
   "outputs": [],
   "source": [
    "final_headers_for_df = ['name','OffensiveTouchdowns_n_1', 'Percent_Off_Snaps_Played_n_1', 'ReceivingYards_n_1', 'ReceivingTargets_n_1','ReceivingLong_n_1', 'FantasyPointsYahoo_n_1','OffensiveTeamSnaps_n_1', 'OffensiveSnapsPlayed_n_1',\n",
    "                       'OffensiveTouchdowns_n_2', 'Percent_Off_Snaps_Played_n_2', 'ReceivingYards_n_2', 'ReceivingTargets_n_2','ReceivingLong_n_2', 'FantasyPointsYahoo_n_2', 'OffensiveTeamSnaps_n_2', 'OffensiveSnapsPlayed_n_2',\n",
    "                       'OffensiveTouchdowns_n_3', 'Percent_Off_Snaps_Played_n_3', 'ReceivingYards_n_3', 'ReceivingTargets_n_3','ReceivingLong_n_3', 'FantasyPointsYahoo_n_3', 'OffensiveTeamSnaps_n_3', 'OffensiveSnapsPlayed_n_3',\n",
    "                       'WEEK_N_DEFENSE_RANK', 'WEEK_N_FANTASY_POINTS']\n",
    "\n",
    "\n"
   ]
  },
  {
   "cell_type": "code",
   "execution_count": 100,
   "id": "a6464443",
   "metadata": {},
   "outputs": [
    {
     "data": {
      "text/html": [
       "<div>\n",
       "<style scoped>\n",
       "    .dataframe tbody tr th:only-of-type {\n",
       "        vertical-align: middle;\n",
       "    }\n",
       "\n",
       "    .dataframe tbody tr th {\n",
       "        vertical-align: top;\n",
       "    }\n",
       "\n",
       "    .dataframe thead th {\n",
       "        text-align: right;\n",
       "    }\n",
       "</style>\n",
       "<table border=\"1\" class=\"dataframe\">\n",
       "  <thead>\n",
       "    <tr style=\"text-align: right;\">\n",
       "      <th></th>\n",
       "      <th>OffensiveTouchdowns_n_1</th>\n",
       "      <th>Percent_Off_Snaps_Played_n_1</th>\n",
       "      <th>ReceivingYards_n_1</th>\n",
       "      <th>ReceivingTargets_n_1</th>\n",
       "      <th>ReceivingLong_n_1</th>\n",
       "      <th>FantasyPointsYahoo_n_1</th>\n",
       "      <th>OffensiveTeamSnaps_n_1</th>\n",
       "      <th>OffensiveSnapsPlayed_n_1</th>\n",
       "      <th>OffensiveTouchdowns_n_2</th>\n",
       "      <th>Percent_Off_Snaps_Played_n_2</th>\n",
       "      <th>...</th>\n",
       "      <th>OffensiveTouchdowns_n_3</th>\n",
       "      <th>Percent_Off_Snaps_Played_n_3</th>\n",
       "      <th>ReceivingYards_n_3</th>\n",
       "      <th>ReceivingTargets_n_3</th>\n",
       "      <th>ReceivingLong_n_3</th>\n",
       "      <th>FantasyPointsYahoo_n_3</th>\n",
       "      <th>OffensiveTeamSnaps_n_3</th>\n",
       "      <th>OffensiveSnapsPlayed_n_3</th>\n",
       "      <th>WEEK_N_DEFENSE_RANK</th>\n",
       "      <th>WEEK_N_FANTASY_POINTS</th>\n",
       "    </tr>\n",
       "    <tr>\n",
       "      <th>name</th>\n",
       "      <th></th>\n",
       "      <th></th>\n",
       "      <th></th>\n",
       "      <th></th>\n",
       "      <th></th>\n",
       "      <th></th>\n",
       "      <th></th>\n",
       "      <th></th>\n",
       "      <th></th>\n",
       "      <th></th>\n",
       "      <th></th>\n",
       "      <th></th>\n",
       "      <th></th>\n",
       "      <th></th>\n",
       "      <th></th>\n",
       "      <th></th>\n",
       "      <th></th>\n",
       "      <th></th>\n",
       "      <th></th>\n",
       "      <th></th>\n",
       "      <th></th>\n",
       "    </tr>\n",
       "  </thead>\n",
       "  <tbody>\n",
       "  </tbody>\n",
       "</table>\n",
       "<p>0 rows × 26 columns</p>\n",
       "</div>"
      ],
      "text/plain": [
       "Empty DataFrame\n",
       "Columns: [OffensiveTouchdowns_n_1, Percent_Off_Snaps_Played_n_1, ReceivingYards_n_1, ReceivingTargets_n_1, ReceivingLong_n_1, FantasyPointsYahoo_n_1, OffensiveTeamSnaps_n_1, OffensiveSnapsPlayed_n_1, OffensiveTouchdowns_n_2, Percent_Off_Snaps_Played_n_2, ReceivingYards_n_2, ReceivingTargets_n_2, ReceivingLong_n_2, FantasyPointsYahoo_n_2, OffensiveTeamSnaps_n_2, OffensiveSnapsPlayed_n_2, OffensiveTouchdowns_n_3, Percent_Off_Snaps_Played_n_3, ReceivingYards_n_3, ReceivingTargets_n_3, ReceivingLong_n_3, FantasyPointsYahoo_n_3, OffensiveTeamSnaps_n_3, OffensiveSnapsPlayed_n_3, WEEK_N_DEFENSE_RANK, WEEK_N_FANTASY_POINTS]\n",
       "Index: []\n",
       "\n",
       "[0 rows x 26 columns]"
      ]
     },
     "execution_count": 100,
     "metadata": {},
     "output_type": "execute_result"
    }
   ],
   "source": [
    "final_df = pd.DataFrame(columns=final_headers_for_df)\n",
    "final_df.set_index('name')"
   ]
  },
  {
   "cell_type": "code",
   "execution_count": null,
   "id": "4f9225a6",
   "metadata": {},
   "outputs": [],
   "source": []
  },
  {
   "cell_type": "code",
   "execution_count": null,
   "id": "605c986f",
   "metadata": {},
   "outputs": [],
   "source": []
  },
  {
   "cell_type": "code",
   "execution_count": 28,
   "id": "68f15b48",
   "metadata": {},
   "outputs": [],
   "source": [
    "final_dict = {}\n",
    "for key in active_wide_receivers_week_1_stats:\n",
    "    final_dict[key] =  [active_wide_receivers_week_1_stats[key]]\n",
    "\n",
    "for key in active_wide_receivers_week_2_stats:\n",
    "    if key in final_dict:\n",
    "        final_dict[key].append(active_wide_receivers_week_2_stats[key])\n",
    "    else:\n",
    "        final_dict[key] =  [active_wide_receivers_week_2_stats[key]]\n",
    "\n",
    "for key in active_wide_receivers_week_3_stats:\n",
    "    if key in final_dict:\n",
    "        final_dict[key].append(active_wide_receivers_week_3_stats[key])\n",
    "    else:\n",
    "        final_dict[key] =  [active_wide_receivers_week_3_stats[key]]       \n",
    "        \n",
    "for key in active_wide_receivers_week_4_stats:\n",
    "    if key in final_dict:\n",
    "        final_dict[key].append(active_wide_receivers_week_4_stats[key])\n",
    "    else:\n",
    "        final_dict[key] =  [active_wide_receivers_week_4_stats[key]] \n",
    "        \n",
    "for key in active_wide_receivers_week_5_stats:\n",
    "    if key in final_dict:\n",
    "        final_dict[key].append(active_wide_receivers_week_5_stats[key])\n",
    "    else:\n",
    "        final_dict[key] =  [active_wide_receivers_week_5_stats[key]] \n",
    "        \n",
    "for key in active_wide_receivers_week_6_stats:\n",
    "    if key in final_dict:\n",
    "        final_dict[key].append(active_wide_receivers_week_6_stats[key])\n",
    "    else:\n",
    "        final_dict[key] =  [active_wide_receivers_week_6_stats[key]] \n",
    "        \n",
    "for key in active_wide_receivers_week_7_stats:\n",
    "    if key in final_dict:\n",
    "        final_dict[key].append(active_wide_receivers_week_7_stats[key])\n",
    "    else:\n",
    "        final_dict[key] =  [active_wide_receivers_week_7_stats[key]] \n",
    "        \n",
    "for key in active_wide_receivers_week_8_stats:\n",
    "    if key in final_dict:\n",
    "        final_dict[key].append(active_wide_receivers_week_8_stats[key])\n",
    "    else:\n",
    "        final_dict[key] =  [active_wide_receivers_week_8_stats[key]] \n",
    "        \n",
    "for key in active_wide_receivers_week_9_stats:\n",
    "    if key in final_dict:\n",
    "        final_dict[key].append(active_wide_receivers_week_9_stats[key])\n",
    "    else:\n",
    "        final_dict[key] =  [active_wide_receivers_week_9_stats[key]] \n",
    "        \n",
    "for key in active_wide_receivers_week_10_stats:\n",
    "    if key in final_dict:\n",
    "        final_dict[key].append(active_wide_receivers_week_10_stats[key])\n",
    "    else:\n",
    "        final_dict[key] =  [active_wide_receivers_week_10_stats[key]] \n",
    "        "
   ]
  },
  {
   "cell_type": "code",
   "execution_count": null,
   "id": "1ffc7b1c",
   "metadata": {},
   "outputs": [],
   "source": []
  },
  {
   "cell_type": "code",
   "execution_count": null,
   "id": "cc7fd321",
   "metadata": {},
   "outputs": [],
   "source": []
  },
  {
   "cell_type": "code",
   "execution_count": 101,
   "id": "205c88d6",
   "metadata": {},
   "outputs": [],
   "source": [
    "for key in final_dict:\n",
    "    if len(final_dict[key])>3:\n",
    "        for i in range(3,len(final_dict[key])):\n",
    "            new_row = {\n",
    "\n",
    "                'name': key + '_week_' + str(final_dict[key][i]['Week']),\n",
    "\n",
    "                #week n-1\n",
    "                'OffensiveTouchdowns_n_1' : final_dict[key][i-1]['OffensiveTouchdowns'],\n",
    "                'OffensiveTeamSnaps_n_1' : float(final_dict[key][i-1]['OffensiveTeamSnaps']),\n",
    "                'OffensiveSnapsPlayed_n_1' : float(final_dict[key][i-1]['OffensiveSnapsPlayed']),\n",
    "                'ReceivingYards_n_1' : final_dict[key][i-1]['ReceivingYards'],\n",
    "                'ReceivingTargets_n_1' : final_dict[key][i-1]['ReceivingTargets'],\n",
    "                'ReceivingLong_n_1' : final_dict[key][i-1]['ReceivingLong'],\n",
    "                'FantasyPointsYahoo_n_1' : final_dict[key][i-1]['FantasyPointsYahoo'],\n",
    "\n",
    "                #week n-2\n",
    "                'OffensiveTouchdowns_n_2' : final_dict[key][i-2]['OffensiveTouchdowns'],\n",
    "                'OffensiveTeamSnaps_n_2' : float(final_dict[key][i-2]['OffensiveTeamSnaps']),\n",
    "                'OffensiveSnapsPlayed_n_2' : float(final_dict[key][i-2]['OffensiveSnapsPlayed']),\n",
    "                'ReceivingYards_n_2' : final_dict[key][i-2]['ReceivingYards'],\n",
    "                'ReceivingTargets_n_2' : final_dict[key][i-2]['ReceivingTargets'],\n",
    "                'ReceivingLong_n_2' : final_dict[key][i-2]['ReceivingLong'],\n",
    "                'FantasyPointsYahoo_n_2' : final_dict[key][i-2]['FantasyPointsYahoo'],\n",
    "\n",
    "                #week n-3\n",
    "                'OffensiveTouchdowns_n_3' : final_dict[key][i-3]['OffensiveTouchdowns'],\n",
    "                'OffensiveTeamSnaps_n_3' : float(final_dict[key][i-3]['OffensiveTeamSnaps']),\n",
    "                'OffensiveSnapsPlayed_n_3' : float(final_dict[key][i-3]['OffensiveSnapsPlayed']),\n",
    "                'ReceivingYards_n_3' : final_dict[key][i-3]['ReceivingYards'],\n",
    "                'ReceivingTargets_n_3' : final_dict[key][i-3]['ReceivingTargets'],\n",
    "                'ReceivingLong_n_3' : final_dict[key][i-3]['ReceivingLong'],\n",
    "                'FantasyPointsYahoo_n_3' : final_dict[key][i-3]['FantasyPointsYahoo'],\n",
    "\n",
    "                # week n\n",
    "                'WEEK_N_DEFENSE_RANK': float(defense_ranks[final_dict[key][i]['Opponent']]),\n",
    "                'WEEK_N_FANTASY_POINTS': final_dict[key][i]['FantasyPointsYahoo'],\n",
    "            }\n",
    "            final_df = final_df.append(new_row, ignore_index=True)\n",
    "        \n",
    "        "
   ]
  },
  {
   "cell_type": "code",
   "execution_count": null,
   "id": "b28d4c4f",
   "metadata": {},
   "outputs": [],
   "source": []
  },
  {
   "cell_type": "code",
   "execution_count": 102,
   "id": "317a846e",
   "metadata": {},
   "outputs": [],
   "source": [
    "final_df['Percent_Off_Snaps_Played_n_1'] = final_df['OffensiveSnapsPlayed_n_1'] / final_df['OffensiveTeamSnaps_n_1']\n",
    "final_df['Percent_Off_Snaps_Played_n_2'] = final_df['OffensiveSnapsPlayed_n_2'] / final_df['OffensiveTeamSnaps_n_2']\n",
    "final_df['Percent_Off_Snaps_Played_n_3'] = final_df['OffensiveSnapsPlayed_n_3'] / final_df['OffensiveTeamSnaps_n_3']"
   ]
  },
  {
   "cell_type": "code",
   "execution_count": 103,
   "id": "2b7fc41e",
   "metadata": {},
   "outputs": [],
   "source": [
    "final_df = final_df.drop(['OffensiveSnapsPlayed_n_1','OffensiveSnapsPlayed_n_2','OffensiveSnapsPlayed_n_3','OffensiveTeamSnaps_n_1','OffensiveTeamSnaps_n_2','OffensiveTeamSnaps_n_3'],axis=1)"
   ]
  },
  {
   "cell_type": "code",
   "execution_count": null,
   "id": "0a831ff1",
   "metadata": {},
   "outputs": [],
   "source": []
  },
  {
   "cell_type": "code",
   "execution_count": 105,
   "id": "4e947bff",
   "metadata": {},
   "outputs": [],
   "source": [
    "# MACHINE LEARNING NOW\n",
    "\n",
    "import numpy as np\n",
    "import pandas as pd\n",
    "import matplotlib.pyplot as plt\n",
    "import seaborn as sns"
   ]
  },
  {
   "cell_type": "code",
   "execution_count": 106,
   "id": "80338d24",
   "metadata": {},
   "outputs": [],
   "source": [
    "X = final_df.drop(['WEEK_N_FANTASY_POINTS','name'],axis=1)\n",
    "y = final_df['WEEK_N_FANTASY_POINTS']"
   ]
  },
  {
   "cell_type": "code",
   "execution_count": 107,
   "id": "4fdd8f5f",
   "metadata": {},
   "outputs": [],
   "source": [
    "from sklearn.model_selection import train_test_split"
   ]
  },
  {
   "cell_type": "code",
   "execution_count": 108,
   "id": "97bda3de",
   "metadata": {},
   "outputs": [],
   "source": [
    "# Split data into training/test sets\n",
    "\n",
    "# 70% of data is training data, set aside other 30%\n",
    "\n",
    "X_train, X_test, y_train, y_test = train_test_split(X, y, test_size=0.3, random_state=101)"
   ]
  },
  {
   "cell_type": "code",
   "execution_count": null,
   "id": "9c181813",
   "metadata": {},
   "outputs": [],
   "source": []
  },
  {
   "cell_type": "code",
   "execution_count": 109,
   "id": "04915758",
   "metadata": {},
   "outputs": [],
   "source": [
    "# SCALE DATA\n",
    "from sklearn.preprocessing import StandardScaler\n",
    "scaler = StandardScaler()\n",
    "scaler.fit(X_train)\n",
    "X_train = scaler.transform(X_train)\n",
    "X_test = scaler.transform(X_test)"
   ]
  },
  {
   "cell_type": "code",
   "execution_count": 110,
   "id": "f42e7d4e",
   "metadata": {},
   "outputs": [],
   "source": [
    "from sklearn.linear_model import LassoCV"
   ]
  },
  {
   "cell_type": "code",
   "execution_count": 111,
   "id": "a97c8288",
   "metadata": {},
   "outputs": [],
   "source": [
    "lasso_cv_model = LassoCV(eps=0.1,n_alphas=100,cv=5)"
   ]
  },
  {
   "cell_type": "code",
   "execution_count": 112,
   "id": "cadbf4f5",
   "metadata": {},
   "outputs": [
    {
     "data": {
      "text/plain": [
       "LassoCV(cv=5, eps=0.1)"
      ]
     },
     "execution_count": 112,
     "metadata": {},
     "output_type": "execute_result"
    }
   ],
   "source": [
    "lasso_cv_model.fit(X_train,y_train)"
   ]
  },
  {
   "cell_type": "code",
   "execution_count": 113,
   "id": "42df9963",
   "metadata": {},
   "outputs": [
    {
     "data": {
      "text/plain": [
       "0.2306291716770143"
      ]
     },
     "execution_count": 113,
     "metadata": {},
     "output_type": "execute_result"
    }
   ],
   "source": [
    "lasso_cv_model.alpha_"
   ]
  },
  {
   "cell_type": "code",
   "execution_count": 114,
   "id": "9914092d",
   "metadata": {},
   "outputs": [],
   "source": [
    "test_predictions = lasso_cv_model.predict(X_test)"
   ]
  },
  {
   "cell_type": "code",
   "execution_count": null,
   "id": "4fb2b651",
   "metadata": {},
   "outputs": [],
   "source": []
  },
  {
   "cell_type": "code",
   "execution_count": null,
   "id": "37a6560b",
   "metadata": {},
   "outputs": [],
   "source": []
  },
  {
   "cell_type": "code",
   "execution_count": null,
   "id": "a96ece92",
   "metadata": {},
   "outputs": [],
   "source": []
  },
  {
   "cell_type": "code",
   "execution_count": 115,
   "id": "6132b155",
   "metadata": {},
   "outputs": [],
   "source": [
    "#test error\n",
    "\n",
    "from sklearn.metrics import mean_squared_error, mean_absolute_error"
   ]
  },
  {
   "cell_type": "code",
   "execution_count": 116,
   "id": "acf99cf2",
   "metadata": {},
   "outputs": [],
   "source": [
    "MAE = mean_absolute_error(y_test,test_predictions)\n",
    "MSE = mean_squared_error(y_test,test_predictions)\n",
    "RMSE = np.sqrt(MSE)"
   ]
  },
  {
   "cell_type": "code",
   "execution_count": 117,
   "id": "59fea6f9",
   "metadata": {},
   "outputs": [
    {
     "data": {
      "text/plain": [
       "7.170783478780222"
      ]
     },
     "execution_count": 117,
     "metadata": {},
     "output_type": "execute_result"
    }
   ],
   "source": [
    "MAE"
   ]
  },
  {
   "cell_type": "code",
   "execution_count": 118,
   "id": "c8df819c",
   "metadata": {},
   "outputs": [
    {
     "data": {
      "text/plain": [
       "8.958732484756847"
      ]
     },
     "execution_count": 118,
     "metadata": {},
     "output_type": "execute_result"
    }
   ],
   "source": [
    "RMSE"
   ]
  },
  {
   "cell_type": "code",
   "execution_count": 119,
   "id": "5b346a6f",
   "metadata": {},
   "outputs": [
    {
     "data": {
      "text/plain": [
       "<AxesSubplot:ylabel='WEEK_N_FANTASY_POINTS'>"
      ]
     },
     "execution_count": 119,
     "metadata": {},
     "output_type": "execute_result"
    },
    {
     "data": {
      "image/png": "[encoded data removed]",
      "text/plain": [
       "<Figure size 432x288 with 1 Axes>"
      ]
     },
     "metadata": {
      "needs_background": "light"
     },
     "output_type": "display_data"
    }
   ],
   "source": [
    "sns.scatterplot(x=test_predictions,y=y_test)"
   ]
  },
  {
   "cell_type": "code",
   "execution_count": 120,
   "id": "d628669a",
   "metadata": {},
   "outputs": [
    {
     "data": {
      "text/plain": [
       "array([-0.        ,  0.29339511,  0.7210099 , -1.56624053, -0.67167068,\n",
       "        1.11876338,  0.        ,  0.959427  ,  2.40874423, -0.61551547,\n",
       "       -2.03709961, -1.69788943, -0.50873269, -0.        ,  1.26175279,\n",
       "        0.        ,  0.65344531,  0.        ,  2.15750737])"
      ]
     },
     "execution_count": 120,
     "metadata": {},
     "output_type": "execute_result"
    }
   ],
   "source": [
    "lasso_cv_model.coef_"
   ]
  },
  {
   "cell_type": "code",
   "execution_count": 121,
   "id": "896d18fb",
   "metadata": {},
   "outputs": [],
   "source": [
    "# final_df.corrwith(final_df['WEEK_N_FANTASY_POINTS']).sort_values()"
   ]
  },
  {
   "cell_type": "code",
   "execution_count": 122,
   "id": "7943b176",
   "metadata": {},
   "outputs": [],
   "source": [
    "## DONE ABOVE"
   ]
  },
  {
   "cell_type": "code",
   "execution_count": null,
   "id": "669b2e25",
   "metadata": {},
   "outputs": [],
   "source": []
  },
  {
   "cell_type": "code",
   "execution_count": null,
   "id": "7c21b33d",
   "metadata": {},
   "outputs": [],
   "source": []
  },
  {
   "cell_type": "code",
   "execution_count": null,
   "id": "c7f2fda4",
   "metadata": {},
   "outputs": [],
   "source": []
  },
  {
   "cell_type": "code",
   "execution_count": 124,
   "id": "b27000dc",
   "metadata": {},
   "outputs": [],
   "source": [
    "# function to test new player for next week (week 11):\n",
    "def get_data(name,opp):\n",
    "    if name in final_dict:\n",
    "        if len(final_dict[name])>2:\n",
    "                player_info = [[\n",
    "                    final_dict[name][-1]['OffensiveTouchdowns'],\n",
    "                    (final_dict[name][-1]['OffensiveSnapsPlayed'] / final_dict[name][-1]['OffensiveTeamSnaps']),\n",
    "                    final_dict[name][-1]['ReceivingYards'],\n",
    "                    final_dict[name][-1]['ReceivingTargets'],\n",
    "                    final_dict[name][-1]['ReceivingLong'],\n",
    "                    final_dict[name][-1]['FantasyPointsYahoo'],\n",
    "                    final_dict[name][-2]['OffensiveTouchdowns'],\n",
    "                    (final_dict[name][-2]['OffensiveSnapsPlayed'] / final_dict[name][-2]['OffensiveTeamSnaps']),\n",
    "                    final_dict[name][-2]['ReceivingYards'],\n",
    "                    final_dict[name][-2]['ReceivingTargets'],\n",
    "                    final_dict[name][-2]['ReceivingLong'],\n",
    "                    final_dict[name][-2]['FantasyPointsYahoo'],\n",
    "                    final_dict[name][-3]['OffensiveTouchdowns'],\n",
    "                    (final_dict[name][-3]['OffensiveSnapsPlayed'] / final_dict[name][-3]['OffensiveTeamSnaps']),\n",
    "                    final_dict[name][-3]['ReceivingYards'],\n",
    "                    final_dict[name][-3]['ReceivingTargets'],\n",
    "                    final_dict[name][-3]['ReceivingLong'],\n",
    "                    final_dict[name][-3]['FantasyPointsYahoo'],\n",
    "                    defense_ranks[opp]]]\n",
    "                return player_info\n",
    "            \n",
    "        return(None)\n",
    "    print(\"Can't make prediction, player hasn't played 3 games this season.\")\n",
    "    return(None)"
   ]
  },
  {
   "cell_type": "code",
   "execution_count": 125,
   "id": "cbd0c776",
   "metadata": {},
   "outputs": [
    {
     "name": "stdout",
     "output_type": "stream",
     "text": [
      "[[ 0.34314178  1.12301304  1.88175212  0.94720555  0.71460731  1.63095451\n",
      "   2.57489256  1.12644734  2.62880222  2.43378339  2.87378852  2.87895977\n",
      "  -0.58958507  1.02636995  0.1598116  -0.62295018 -0.251013   -0.23649711\n",
      "   0.39730253]]\n"
     ]
    }
   ],
   "source": [
    "#testing the model\n",
    "user_player = get_data('Justin Jefferson','DAL')\n",
    "user_player = scaler.transform(user_player)\n",
    "print(user_player)"
   ]
  },
  {
   "cell_type": "code",
   "execution_count": 126,
   "id": "c7064578",
   "metadata": {},
   "outputs": [
    {
     "data": {
      "text/plain": [
       "array([9.78193489])"
      ]
     },
     "execution_count": 126,
     "metadata": {},
     "output_type": "execute_result"
    }
   ],
   "source": [
    "lasso_cv_model.predict(user_player)"
   ]
  },
  {
   "cell_type": "code",
   "execution_count": null,
   "id": "31a51c57",
   "metadata": {},
   "outputs": [],
   "source": []
  },
  {
   "cell_type": "code",
   "execution_count": 128,
   "id": "5afe046d",
   "metadata": {},
   "outputs": [
    {
     "data": {
      "text/plain": [
       "array([-0.        ,  0.29339511,  0.7210099 , -1.56624053, -0.67167068,\n",
       "        1.11876338,  0.        ,  0.959427  ,  2.40874423, -0.61551547,\n",
       "       -2.03709961, -1.69788943, -0.50873269, -0.        ,  1.26175279,\n",
       "        0.        ,  0.65344531,  0.        ,  2.15750737])"
      ]
     },
     "execution_count": 128,
     "metadata": {},
     "output_type": "execute_result"
    }
   ],
   "source": [
    "lasso_cv_model.coef_"
   ]
  },
  {
   "cell_type": "code",
   "execution_count": 129,
   "id": "39755b2e",
   "metadata": {},
   "outputs": [
    {
     "data": {
      "text/plain": [
       "LassoCV(cv=5, eps=0.1)"
      ]
     },
     "execution_count": 129,
     "metadata": {},
     "output_type": "execute_result"
    }
   ],
   "source": [
    "#final fit\n",
    "X = scaler.transform(X)\n",
    "\n",
    "lasso_cv_model.fit(X,y)"
   ]
  },
  {
   "cell_type": "code",
   "execution_count": 130,
   "id": "f058d441",
   "metadata": {},
   "outputs": [
    {
     "data": {
      "text/plain": [
       "0.1720743060569496"
      ]
     },
     "execution_count": 130,
     "metadata": {},
     "output_type": "execute_result"
    }
   ],
   "source": [
    "lasso_cv_model.alpha_"
   ]
  },
  {
   "cell_type": "code",
   "execution_count": null,
   "id": "87a05cd1",
   "metadata": {},
   "outputs": [],
   "source": []
  },
  {
   "cell_type": "code",
   "execution_count": 131,
   "id": "f8fdd612",
   "metadata": {},
   "outputs": [],
   "source": [
    "final_model = lasso_cv_model"
   ]
  },
  {
   "cell_type": "code",
   "execution_count": 132,
   "id": "5c3734d9",
   "metadata": {},
   "outputs": [
    {
     "data": {
      "text/plain": [
       "array([10.85466602])"
      ]
     },
     "execution_count": 132,
     "metadata": {},
     "output_type": "execute_result"
    }
   ],
   "source": [
    "final_model.predict(user_player)"
   ]
  },
  {
   "cell_type": "code",
   "execution_count": 133,
   "id": "d48a76b9",
   "metadata": {},
   "outputs": [],
   "source": [
    "# saving model\n",
    "from joblib import dump, load"
   ]
  },
  {
   "cell_type": "code",
   "execution_count": 136,
   "id": "7bb19eac",
   "metadata": {},
   "outputs": [
    {
     "data": {
      "text/plain": [
       "['fantasy_week_12_model.joblib']"
      ]
     },
     "execution_count": 136,
     "metadata": {},
     "output_type": "execute_result"
    }
   ],
   "source": [
    "dump(final_model, 'fantasy_week_12_model.joblib') "
   ]
  },
  {
   "cell_type": "code",
   "execution_count": 149,
   "id": "935765a8",
   "metadata": {},
   "outputs": [
    {
     "name": "stdout",
     "output_type": "stream",
     "text": [
      "Name a WR for their Week 12 Fantasy Prediction: Davante Adams\n",
      "Who are they playing this week? Team Code. Ex: Dallas = DAL. : DEN\n",
      "Davante Adams's Week 12 Projection is 3.6 PPR points.\n"
     ]
    }
   ],
   "source": [
    "# USING MODEL WITH USER INPUT\n",
    "loaded_model = load('fantasy_week_12_model.joblib')\n",
    "user_input = input('Name a WR for their Week 12 Fantasy Prediction: ')\n",
    "opp = input(\"Who are they playing this week? Team Code. Ex: Dallas = DAL. : \")\n",
    "if user_input in final_dict:\n",
    "    user_player = get_data(user_input,opp)\n",
    "    if user_player == None: \n",
    "        print(\"Sorry, this player hasn't played 3 games this year. Can't make prediction.\")\n",
    "        pass\n",
    "    else:\n",
    "        user_player = scaler.transform(user_player)\n",
    "        user_player_prediction = round(loaded_model.predict(user_player)[0],1)\n",
    "        print(f\"{user_input}'s Week 12 Projection is {user_player_prediction} PPR points.\")\n",
    "else:\n",
    "    print(\"Cannot find that player, he either hasn't started a game this season or you mispelled his name.\")"
   ]
  },
  {
   "cell_type": "markdown",
   "id": "69daaf19",
   "metadata": {},
   "source": []
  },
  {
   "cell_type": "code",
   "execution_count": null,
   "id": "2e645705",
   "metadata": {},
   "outputs": [],
   "source": []
  },
  {
   "cell_type": "code",
   "execution_count": null,
   "id": "500b50b6",
   "metadata": {},
   "outputs": [],
   "source": []
  },
  {
   "cell_type": "code",
   "execution_count": null,
   "id": "23e3d328",
   "metadata": {},
   "outputs": [],
   "source": [
    "\n"
   ]
  },
  {
   "cell_type": "code",
   "execution_count": null,
   "id": "814d8a6d",
   "metadata": {},
   "outputs": [],
   "source": []
  }
 ],
 "metadata": {
  "kernelspec": {
   "display_name": "Python 3",
   "language": "python",
   "name": "python3"
  },
  "language_info": {
   "codemirror_mode": {
    "name": "ipython",
    "version": 3
   },
   "file_extension": ".py",
   "mimetype": "text/x-python",
   "name": "python",
   "nbconvert_exporter": "python",
   "pygments_lexer": "ipython3",
   "version": "3.8.8"
  }
 },
 "nbformat": 4,
 "nbformat_minor": 5
}
